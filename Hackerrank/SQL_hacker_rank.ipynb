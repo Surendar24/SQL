{
 "cells": [
  {
   "cell_type": "markdown",
   "id": "0d0e3af7",
   "metadata": {},
   "source": [
    "# Weather Observation Station 5\n",
    "Query the two cities in STATION with the shortest and longest CITY names, as well as their respective lengths (i.e.: number of characters in the name). If there is more than one smallest or largest city, choose the one that comes first when ordered alphabetically."
   ]
  },
  {
   "cell_type": "code",
   "execution_count": null,
   "id": "36a4541e",
   "metadata": {},
   "outputs": [],
   "source": [
    "select city,length(city) from station order by length(city),city limit 1;\n",
    "select city,length(city) from station order by length(city) desc,city limit 1;"
   ]
  },
  {
   "cell_type": "markdown",
   "id": "dc52a5a7",
   "metadata": {},
   "source": [
    "# Weather Observation Station 6\n",
    "Query the list of CITY names starting with vowels (i.e., a, e, i, o, or u) from STATION. Your result cannot contain duplicates."
   ]
  },
  {
   "cell_type": "code",
   "execution_count": null,
   "id": "6e66a97b",
   "metadata": {},
   "outputs": [],
   "source": [
    "select distinct(city) from station where lower(substr(city,1,1)) in ('a','e','i','o','u');"
   ]
  },
  {
   "cell_type": "markdown",
   "id": "e6c800b9",
   "metadata": {},
   "source": [
    "# Weather Observation Station 7\n",
    "Query the list of CITY names ending with vowels (a, e, i, o, u) from STATION. Your result cannot contain duplicates"
   ]
  },
  {
   "cell_type": "code",
   "execution_count": null,
   "id": "35b1c6ec",
   "metadata": {},
   "outputs": [],
   "source": [
    "select distinct(city) from station where lower(substr(city,length(city),1)) in ('a','e','i','o','u');\n",
    "#also\n",
    "select distinct(city) from station where lower(substr(city,-1,1)) in ('a','e','i','o','u');"
   ]
  },
  {
   "cell_type": "markdown",
   "id": "fd9773fe",
   "metadata": {},
   "source": [
    "# Weather Observation Station 8\n",
    "Query the list of CITY names from STATION which have vowels (i.e., a, e, i, o, and u) as both their first and last characters. Your result cannot contain duplicates."
   ]
  },
  {
   "cell_type": "code",
   "execution_count": null,
   "id": "a80771a5",
   "metadata": {},
   "outputs": [],
   "source": [
    "select distinct(city) from station where lower(substr(city,1,1)) in ('a','e','i','o','u') and lower(substr(city,length(city),1)) in ('a','e','i','o','u');"
   ]
  },
  {
   "cell_type": "markdown",
   "id": "9b6bb4b9",
   "metadata": {},
   "source": [
    "# Weather Observation Station 9\n",
    "Query the list of CITY names from STATION that do not start with vowels. Your result cannot contain duplicates."
   ]
  },
  {
   "cell_type": "code",
   "execution_count": null,
   "id": "0c61df7b",
   "metadata": {},
   "outputs": [],
   "source": [
    "select distinct(city) from station where lower(substr(city,1,1)) not in ('a','e','i','o','u');"
   ]
  },
  {
   "cell_type": "markdown",
   "id": "b27b8690",
   "metadata": {},
   "source": [
    "# Weather Observation Station 10\n",
    "Query the list of CITY names from STATION that do not end with vowels. Your result cannot contain duplicates."
   ]
  },
  {
   "cell_type": "code",
   "execution_count": null,
   "id": "66d98a15",
   "metadata": {},
   "outputs": [],
   "source": [
    "select distinct(city) from station where lower(substr(city,length(city),1))not  in ('a','e','i','o','u');"
   ]
  },
  {
   "cell_type": "markdown",
   "id": "e57649ba",
   "metadata": {},
   "source": [
    "# Weather Observation Station 11\n",
    "Query the list of CITY names from STATION that either do not start with vowels or do not end with vowels. Your result cannot contain duplicates.\n",
    "\n"
   ]
  },
  {
   "cell_type": "code",
   "execution_count": null,
   "id": "e0f2c783",
   "metadata": {},
   "outputs": [],
   "source": [
    "select distinct(city) from station where lower(substr(city,1,1)) not in ('a','e','i','o','u') or lower(substr(city,length(city),1)) not  in ('a','e','i','o','u');"
   ]
  },
  {
   "cell_type": "markdown",
   "id": "c0556ae8",
   "metadata": {},
   "source": [
    "# Weather Observation Station 12\n",
    "Query the list of CITY names from STATION that do not start with vowels and do not end with vowels. Your result cannot contain duplicates.\n",
    "\n"
   ]
  },
  {
   "cell_type": "code",
   "execution_count": null,
   "id": "74e04099",
   "metadata": {},
   "outputs": [],
   "source": [
    "select distinct(city) from station where lower(substr(city,1,1)) not in ('a','e','i','o','u') and lower(substr(city,length(city),1)) not  in ('a','e','i','o','u');"
   ]
  },
  {
   "cell_type": "markdown",
   "id": "234b7831",
   "metadata": {},
   "source": [
    "# Higher Than 75 Marks\n",
    "Query the Name of any student in STUDENTS who scored higher than  Marks. Order your output by the last three characters of each name. If two or more students both have names ending in the same last three characters (i.e.: Bobby, Robby, etc.), secondary sort them by ascending ID."
   ]
  },
  {
   "cell_type": "code",
   "execution_count": null,
   "id": "ca39c829",
   "metadata": {},
   "outputs": [],
   "source": [
    "SELECT NAME FROM STUDENTS WHERE MARKS > 75 ORDER BY RIGHT(NAME, 3), ID ASC;"
   ]
  },
  {
   "cell_type": "markdown",
   "id": "57194b00",
   "metadata": {},
   "source": [
    "# Employee Salaries\n",
    "Write a query that prints a list of employee names (i.e.: the name attribute) for employees in Employee having a salary greater than  per month who have been employees for less than  months. Sort your result by ascending employee_id."
   ]
  },
  {
   "cell_type": "code",
   "execution_count": null,
   "id": "0bbfcb9c",
   "metadata": {},
   "outputs": [],
   "source": [
    "select name from employee where months < 10 and salary > 2000 order by employee_id;"
   ]
  },
  {
   "cell_type": "markdown",
   "id": "0f2eadcb",
   "metadata": {},
   "source": [
    "# Weather Observation Station 15\n",
    "Query the Western Longitude (LONG_W) for the largest Northern Latitude (LAT_N) in STATION that is less than . Round your answer to  decimal places."
   ]
  },
  {
   "cell_type": "code",
   "execution_count": null,
   "id": "51e9fb9c",
   "metadata": {},
   "outputs": [],
   "source": [
    "select round(long_w,4) from station where lat_n = (select max(lat_n)from station where lat_n <137.2345);"
   ]
  },
  {
   "cell_type": "markdown",
   "id": "a93a7f56",
   "metadata": {},
   "source": [
    "# Weather Observation Station 16\n",
    "Query the smallest Northern Latitude (LAT_N) from STATION that is greater than . Round your answer to  decimal places."
   ]
  },
  {
   "cell_type": "code",
   "execution_count": null,
   "id": "1f19887b",
   "metadata": {},
   "outputs": [],
   "source": [
    "select round(lat_n,4) from station where lat_n = (select min(lat_n) from station where lat_n > 38.7780);"
   ]
  },
  {
   "cell_type": "markdown",
   "id": "275f612a",
   "metadata": {},
   "source": [
    "# Weather Observation Station 17\n",
    "Query the Western Longitude (LONG_W)where the smallest Northern Latitude (LAT_N) in STATION is greater than . Round your answer to  decimal places."
   ]
  },
  {
   "cell_type": "code",
   "execution_count": null,
   "id": "a7a2ab65",
   "metadata": {},
   "outputs": [],
   "source": [
    "select round(long_w,4) from station where lat_n = (select min(lat_n) from station where lat_n >38.7780);"
   ]
  },
  {
   "cell_type": "markdown",
   "id": "bc2b3d78",
   "metadata": {},
   "source": [
    "# Weather Observation Station 18\n",
    "\n",
    "Consider  and  to be two points on a 2D plane.\n",
    "\n",
    " happens to equal the minimum value in Northern Latitude (LAT_N in STATION).\n",
    " happens to equal the minimum value in Western Longitude (LONG_W in STATION).\n",
    " happens to equal the maximum value in Northern Latitude (LAT_N in STATION).\n",
    " happens to equal the maximum value in Western Longitude (LONG_W in STATION).\n",
    "Query the Manhattan Distance between points  and  and round it to a scale of  decimal places."
   ]
  },
  {
   "cell_type": "code",
   "execution_count": null,
   "id": "0433f93a",
   "metadata": {},
   "outputs": [],
   "source": [
    "\n",
    "SELECT ROUND((MAX(LAT_N) - MIN(LAT_N) + MAX(LONG_W) - MIN(LONG_W)), 4) AS D\n",
    "FROM STATION"
   ]
  },
  {
   "cell_type": "code",
   "execution_count": null,
   "id": "74ace6f7",
   "metadata": {},
   "outputs": [],
   "source": []
  },
  {
   "cell_type": "code",
   "execution_count": null,
   "id": "174c8393",
   "metadata": {},
   "outputs": [],
   "source": []
  },
  {
   "cell_type": "code",
   "execution_count": null,
   "id": "e977a9fe",
   "metadata": {},
   "outputs": [],
   "source": []
  },
  {
   "cell_type": "code",
   "execution_count": null,
   "id": "472688cc",
   "metadata": {},
   "outputs": [],
   "source": []
  },
  {
   "cell_type": "code",
   "execution_count": null,
   "id": "b060cd72",
   "metadata": {},
   "outputs": [],
   "source": []
  },
  {
   "cell_type": "code",
   "execution_count": null,
   "id": "0eded3cb",
   "metadata": {},
   "outputs": [],
   "source": []
  },
  {
   "cell_type": "code",
   "execution_count": null,
   "id": "8cd6f821",
   "metadata": {},
   "outputs": [],
   "source": []
  },
  {
   "cell_type": "code",
   "execution_count": null,
   "id": "e38c3904",
   "metadata": {},
   "outputs": [],
   "source": []
  },
  {
   "cell_type": "code",
   "execution_count": null,
   "id": "be1b1dd0",
   "metadata": {},
   "outputs": [],
   "source": []
  },
  {
   "cell_type": "code",
   "execution_count": null,
   "id": "43c0f4e8",
   "metadata": {},
   "outputs": [],
   "source": []
  }
 ],
 "metadata": {
  "kernelspec": {
   "display_name": "Python 3.9 (pytorch)",
   "language": "python",
   "name": "pytorch"
  },
  "language_info": {
   "codemirror_mode": {
    "name": "ipython",
    "version": 3
   },
   "file_extension": ".py",
   "mimetype": "text/x-python",
   "name": "python",
   "nbconvert_exporter": "python",
   "pygments_lexer": "ipython3",
   "version": "3.9.15"
  }
 },
 "nbformat": 4,
 "nbformat_minor": 5
}
